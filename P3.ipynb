{
  "nbformat": 4,
  "nbformat_minor": 0,
  "metadata": {
    "colab": {
      "provenance": []
    },
    "kernelspec": {
      "name": "python3",
      "display_name": "Python 3"
    },
    "language_info": {
      "name": "python"
    }
  },
  "cells": [
    {
      "cell_type": "markdown",
      "source": [
        "**a. Import required libraries**"
      ],
      "metadata": {
        "id": "jVqWCNznn5RI"
      }
    },
    {
      "cell_type": "code",
      "execution_count": 25,
      "metadata": {
        "id": "MXcecTsjmGmp"
      },
      "outputs": [],
      "source": [
        "import numpy as np\n",
        "import pandas as pd\n",
        "import tensorflow as tf\n",
        "from tensorflow.keras import Model, Input\n",
        "from tensorflow.keras.layers import Dense\n",
        "from sklearn.model_selection import train_test_split"
      ]
    },
    {
      "cell_type": "markdown",
      "source": [
        "**b. Loading dataset**"
      ],
      "metadata": {
        "id": "4EL1fs-OqD1I"
      }
    },
    {
      "cell_type": "markdown",
      "source": [
        "assuming data is your dataset"
      ],
      "metadata": {
        "id": "2zCFhX3qopcS"
      }
    },
    {
      "cell_type": "code",
      "source": [
        "Path_TO_DATA = 'https://storage.googleapis.com/download.tensorflow.org/data/ecg.csv'\n",
        "data = pd.read_csv(Path_TO_DATA, header = None)"
      ],
      "metadata": {
        "id": "TRp8KwytodcA"
      },
      "execution_count": 26,
      "outputs": []
    },
    {
      "cell_type": "markdown",
      "source": [
        "split data into test and train set"
      ],
      "metadata": {
        "id": "U8MZGzRWpTOx"
      }
    },
    {
      "cell_type": "code",
      "source": [
        "x_train, x_test = train_test_split(data, test_size = 0.2, random_state=42)"
      ],
      "metadata": {
        "id": "FAd1HJ24pgMl"
      },
      "execution_count": 27,
      "outputs": []
    },
    {
      "cell_type": "markdown",
      "source": [
        "**c. Encoder**"
      ],
      "metadata": {
        "id": "pURBAjzGqSK3"
      }
    },
    {
      "cell_type": "code",
      "source": [
        "input_img = x_train.shape[1]"
      ],
      "metadata": {
        "id": "voXmLvPzqOCF"
      },
      "execution_count": 28,
      "outputs": []
    },
    {
      "cell_type": "code",
      "source": [
        "encoder = tf.keras.Sequential([\n",
        "    Dense(64, activation = \"relu\", input_shape = (input_img,)),\n",
        "    Dense(32, activation = \"relu\"),\n",
        "    Dense(16, activation = \"relu\")\n",
        "])"
      ],
      "metadata": {
        "colab": {
          "base_uri": "https://localhost:8080/"
        },
        "id": "yxLL1xSRqq0K",
        "outputId": "de0c1213-dd4e-44fb-def0-a3c2b2f10d6d"
      },
      "execution_count": 29,
      "outputs": [
        {
          "output_type": "stream",
          "name": "stderr",
          "text": [
            "/usr/local/lib/python3.10/dist-packages/keras/src/layers/core/dense.py:87: UserWarning: Do not pass an `input_shape`/`input_dim` argument to a layer. When using Sequential models, prefer using an `Input(shape)` object as the first layer in the model instead.\n",
            "  super().__init__(activity_regularizer=activity_regularizer, **kwargs)\n"
          ]
        }
      ]
    },
    {
      "cell_type": "markdown",
      "source": [
        "**d. Decoder**"
      ],
      "metadata": {
        "id": "SDy0otcbre9a"
      }
    },
    {
      "cell_type": "code",
      "source": [
        "decoder = tf.keras.Sequential([\n",
        "    Dense(32, activation = \"relu\", input_shape=(16,)),\n",
        "    Dense(64, activation = \"relu\"),\n",
        "    Dense(input_img, activation = \"sigmoid\")\n",
        "])"
      ],
      "metadata": {
        "id": "eCwCsSoprd8P"
      },
      "execution_count": 30,
      "outputs": []
    },
    {
      "cell_type": "markdown",
      "source": [
        "**e. Compile and fit model**"
      ],
      "metadata": {
        "id": "bTvLASyCsDIz"
      }
    },
    {
      "cell_type": "code",
      "source": [
        "# combine encoder and decoder into autoencoder model\n",
        "autoencoder_input = Input(shape=(input_img,))\n",
        "encoded = encoder(autoencoder_input)\n",
        "decoded = decoder(encoded)\n",
        "autoencoder = Model(autoencoder_input, decoded)\n",
        "\n"
      ],
      "metadata": {
        "id": "XRT_cmiysGo0"
      },
      "execution_count": 31,
      "outputs": []
    },
    {
      "cell_type": "code",
      "source": [
        "#compile model\n",
        "autoencoder.compile(\n",
        "    optimizer = \"adam\",\n",
        "    loss = \"mse\"\n",
        ")\n",
        "\n",
        "autoencoder.fit( x_train, x_train, epochs = 20, batch_size = 32, shuffle = True, validation_data = (x_test, x_test))\n"
      ],
      "metadata": {
        "colab": {
          "base_uri": "https://localhost:8080/"
        },
        "id": "9_DDMWxAtdpB",
        "outputId": "90e68d71-fbf3-496a-816a-3dd03b73088e"
      },
      "execution_count": 32,
      "outputs": [
        {
          "output_type": "stream",
          "name": "stdout",
          "text": [
            "Epoch 1/20\n",
            "\u001b[1m125/125\u001b[0m \u001b[32m━━━━━━━━━━━━━━━━━━━━\u001b[0m\u001b[37m\u001b[0m \u001b[1m3s\u001b[0m 5ms/step - loss: 1.0120 - val_loss: 0.7796\n",
            "Epoch 2/20\n",
            "\u001b[1m125/125\u001b[0m \u001b[32m━━━━━━━━━━━━━━━━━━━━\u001b[0m\u001b[37m\u001b[0m \u001b[1m1s\u001b[0m 3ms/step - loss: 0.7739 - val_loss: 0.7550\n",
            "Epoch 3/20\n",
            "\u001b[1m125/125\u001b[0m \u001b[32m━━━━━━━━━━━━━━━━━━━━\u001b[0m\u001b[37m\u001b[0m \u001b[1m1s\u001b[0m 3ms/step - loss: 0.7520 - val_loss: 0.7426\n",
            "Epoch 4/20\n",
            "\u001b[1m125/125\u001b[0m \u001b[32m━━━━━━━━━━━━━━━━━━━━\u001b[0m\u001b[37m\u001b[0m \u001b[1m0s\u001b[0m 2ms/step - loss: 0.7403 - val_loss: 0.7376\n",
            "Epoch 5/20\n",
            "\u001b[1m125/125\u001b[0m \u001b[32m━━━━━━━━━━━━━━━━━━━━\u001b[0m\u001b[37m\u001b[0m \u001b[1m1s\u001b[0m 2ms/step - loss: 0.7383 - val_loss: 0.7358\n",
            "Epoch 6/20\n",
            "\u001b[1m125/125\u001b[0m \u001b[32m━━━━━━━━━━━━━━━━━━━━\u001b[0m\u001b[37m\u001b[0m \u001b[1m0s\u001b[0m 2ms/step - loss: 0.7351 - val_loss: 0.7349\n",
            "Epoch 7/20\n",
            "\u001b[1m125/125\u001b[0m \u001b[32m━━━━━━━━━━━━━━━━━━━━\u001b[0m\u001b[37m\u001b[0m \u001b[1m1s\u001b[0m 2ms/step - loss: 0.7347 - val_loss: 0.7334\n",
            "Epoch 8/20\n",
            "\u001b[1m125/125\u001b[0m \u001b[32m━━━━━━━━━━━━━━━━━━━━\u001b[0m\u001b[37m\u001b[0m \u001b[1m0s\u001b[0m 2ms/step - loss: 0.7333 - val_loss: 0.7325\n",
            "Epoch 9/20\n",
            "\u001b[1m125/125\u001b[0m \u001b[32m━━━━━━━━━━━━━━━━━━━━\u001b[0m\u001b[37m\u001b[0m \u001b[1m0s\u001b[0m 2ms/step - loss: 0.7323 - val_loss: 0.7316\n",
            "Epoch 10/20\n",
            "\u001b[1m125/125\u001b[0m \u001b[32m━━━━━━━━━━━━━━━━━━━━\u001b[0m\u001b[37m\u001b[0m \u001b[1m0s\u001b[0m 2ms/step - loss: 0.7307 - val_loss: 0.7311\n",
            "Epoch 11/20\n",
            "\u001b[1m125/125\u001b[0m \u001b[32m━━━━━━━━━━━━━━━━━━━━\u001b[0m\u001b[37m\u001b[0m \u001b[1m0s\u001b[0m 2ms/step - loss: 0.7311 - val_loss: 0.7308\n",
            "Epoch 12/20\n",
            "\u001b[1m125/125\u001b[0m \u001b[32m━━━━━━━━━━━━━━━━━━━━\u001b[0m\u001b[37m\u001b[0m \u001b[1m0s\u001b[0m 2ms/step - loss: 0.7308 - val_loss: 0.7303\n",
            "Epoch 13/20\n",
            "\u001b[1m125/125\u001b[0m \u001b[32m━━━━━━━━━━━━━━━━━━━━\u001b[0m\u001b[37m\u001b[0m \u001b[1m0s\u001b[0m 2ms/step - loss: 0.7301 - val_loss: 0.7300\n",
            "Epoch 14/20\n",
            "\u001b[1m125/125\u001b[0m \u001b[32m━━━━━━━━━━━━━━━━━━━━\u001b[0m\u001b[37m\u001b[0m \u001b[1m0s\u001b[0m 2ms/step - loss: 0.7305 - val_loss: 0.7296\n",
            "Epoch 15/20\n",
            "\u001b[1m125/125\u001b[0m \u001b[32m━━━━━━━━━━━━━━━━━━━━\u001b[0m\u001b[37m\u001b[0m \u001b[1m0s\u001b[0m 2ms/step - loss: 0.7289 - val_loss: 0.7295\n",
            "Epoch 16/20\n",
            "\u001b[1m125/125\u001b[0m \u001b[32m━━━━━━━━━━━━━━━━━━━━\u001b[0m\u001b[37m\u001b[0m \u001b[1m1s\u001b[0m 2ms/step - loss: 0.7285 - val_loss: 0.7292\n",
            "Epoch 17/20\n",
            "\u001b[1m125/125\u001b[0m \u001b[32m━━━━━━━━━━━━━━━━━━━━\u001b[0m\u001b[37m\u001b[0m \u001b[1m1s\u001b[0m 2ms/step - loss: 0.7301 - val_loss: 0.7282\n",
            "Epoch 18/20\n",
            "\u001b[1m125/125\u001b[0m \u001b[32m━━━━━━━━━━━━━━━━━━━━\u001b[0m\u001b[37m\u001b[0m \u001b[1m0s\u001b[0m 2ms/step - loss: 0.7280 - val_loss: 0.7280\n",
            "Epoch 19/20\n",
            "\u001b[1m125/125\u001b[0m \u001b[32m━━━━━━━━━━━━━━━━━━━━\u001b[0m\u001b[37m\u001b[0m \u001b[1m0s\u001b[0m 2ms/step - loss: 0.7269 - val_loss: 0.7280\n",
            "Epoch 20/20\n",
            "\u001b[1m125/125\u001b[0m \u001b[32m━━━━━━━━━━━━━━━━━━━━\u001b[0m\u001b[37m\u001b[0m \u001b[1m1s\u001b[0m 2ms/step - loss: 0.7275 - val_loss: 0.7278\n"
          ]
        },
        {
          "output_type": "execute_result",
          "data": {
            "text/plain": [
              "<keras.src.callbacks.history.History at 0x7bb42e8fb190>"
            ]
          },
          "metadata": {},
          "execution_count": 32
        }
      ]
    },
    {
      "cell_type": "code",
      "source": [
        "# reconstruction loss\n",
        "reconstruction_loss = autoencoder.evaluate(x_test, x_test)\n",
        "print(\"Reconstruction Loss:\", reconstruction_loss)"
      ],
      "metadata": {
        "colab": {
          "base_uri": "https://localhost:8080/"
        },
        "id": "Lh_BJyPDuIqt",
        "outputId": "d820f4e1-fb58-48b5-e0f1-a6462dc504a6"
      },
      "execution_count": 33,
      "outputs": [
        {
          "output_type": "stream",
          "name": "stdout",
          "text": [
            "\u001b[1m32/32\u001b[0m \u001b[32m━━━━━━━━━━━━━━━━━━━━\u001b[0m\u001b[37m\u001b[0m \u001b[1m0s\u001b[0m 1ms/step - loss: 0.7258 \n",
            "Reconstruction Loss: 0.7278206944465637\n"
          ]
        }
      ]
    },
    {
      "cell_type": "code",
      "source": [
        "# anomaly detection\n",
        "reconstructions = autoencoder.predict(x_test)\n",
        "mse = np.mean(np.power(x_test - reconstructions, 2), axis=1)  # calculate mse per sample\n",
        "threshold = np.mean(mse) + 3 * np.std(mse)  # threshold for reconstruction error\n"
      ],
      "metadata": {
        "colab": {
          "base_uri": "https://localhost:8080/"
        },
        "id": "SqSW0sKHukvg",
        "outputId": "bf0f363d-5a58-4258-e318-23adfbaf8f2e"
      },
      "execution_count": 34,
      "outputs": [
        {
          "output_type": "stream",
          "name": "stdout",
          "text": [
            "\u001b[1m32/32\u001b[0m \u001b[32m━━━━━━━━━━━━━━━━━━━━\u001b[0m\u001b[37m\u001b[0m \u001b[1m0s\u001b[0m 3ms/step\n"
          ]
        }
      ]
    },
    {
      "cell_type": "code",
      "source": [
        "anomalies = np.where(mse > threshold)[0]\n",
        "print(\"Indices of Anomalies:\", anomalies)"
      ],
      "metadata": {
        "colab": {
          "base_uri": "https://localhost:8080/"
        },
        "id": "5DQ1SeQ_vSqa",
        "outputId": "f5a398e4-46e8-4b6a-ac39-46047bbab20c"
      },
      "execution_count": 35,
      "outputs": [
        {
          "output_type": "stream",
          "name": "stdout",
          "text": [
            "Indices of Anomalies: [360 421 494 727]\n"
          ]
        }
      ]
    }
  ]
}